{
 "cells": [
  {
   "cell_type": "markdown",
   "metadata": {},
   "source": [
    "# Estimación de precios de los alojamientos en la plataforma Airbnb\n",
    "-----------------------------------------------------------------------------------------------\n",
    "#### Joan Muntaner Ferrer\n",
    "\n",
    "\n",
    "## Introducción\n",
    "\n",
    "La plataforma Airbnb es una plataforma digital que permite al usuario presentar y reservar alojamientos en alquiler. Es una plataforma presente en más de 192 países. En Mallorca dispone de más de 14000 alojaminetos. Sin embargo, si un nuevo usuario tiene intención de incluir su alojamiento para el alquiler siempre tiene el problema de estipular el precio del alquiler. \n",
    "\n",
    "En este documento se presentará un modelo, siguiendo el aprendizaje profundo, que ayude al usuario a estipular dicho precio del alquiler. En otras palabras, se pretende que el modelo que se presentará en este documento sea capaz de epredecir los valores para un alojamiento concreto, teniendo en cuenta distintos parámetros como, por ejemplo, la ubicación, el número de habitaciones, baños e incluso si el alojamiento cuenta con wifi o no. \n",
    "\n",
    "Para el entrenamiento del modelo se dispone de una base de datos reales sobre la isla de Mallorca. A partir de ella se pretende entrenar el modelo para que sea capaz de predecir el precio adecuado al alojamiento. No obstante, la base de datos que disponemos presenta varias columnas con valores problematicos, es decir, hay varias columnas con valores NAN en ellas, valores atípicos (outliers), colummnas con valores encadenados, etc. Por este motivo, este documento se dividirá en dos grandes partes:\n",
    "\n",
    "* Limpieza y preparación de la base de datos\n",
    "* Implementación del modelo\n",
    "\n",
    "A continuación se mostrarán distintos apartados explicando el coódigo que se ha implementado."
   ]
  },
  {
   "cell_type": "markdown",
   "metadata": {},
   "source": [
    "## Librerías usadas"
   ]
  },
  {
   "cell_type": "code",
   "execution_count": 1,
   "metadata": {},
   "outputs": [],
   "source": [
    "import numpy as np\n",
    "import pandas as pd\n",
    "import seaborn as sns\n",
    "from statsmodels.graphics.gofplots import qqplot\n",
    "from sklearn.feature_extraction.text import CountVectorizer\n",
    "import matplotlib.pyplot as plt\n",
    "from sklearn.preprocessing import StandardScaler\n",
    "from sklearn.model_selection import cross_val_score\n",
    "from sklearn.neighbors import  KNeighborsRegressor\n",
    "from sklearn.metrics import  mean_squared_error, r2_score\n",
    "from sklearn.linear_model import LinearRegression"
   ]
  },
  {
   "cell_type": "markdown",
   "metadata": {},
   "source": [
    "## Funciones"
   ]
  },
  {
   "cell_type": "markdown",
   "metadata": {},
   "source": [
    "Se han implementado varias funciones con el objetivo de implementar un código más limpio y menos redundante. "
   ]
  },
  {
   "cell_type": "markdown",
   "metadata": {},
   "source": [
    "### Funciones para plotear\n"
   ]
  },
  {
   "cell_type": "code",
   "execution_count": 2,
   "metadata": {},
   "outputs": [],
   "source": [
    "#Función implementada para visualiar los datos a través de la variable 'price'\n",
    "def plot_col(df, tittle, col, ylabel):\n",
    "    fig = plt.figure()\n",
    "    ax = fig.add_subplot(111)\n",
    "    ax.scatter( df['id'],col)\n",
    "    ax.set_title(tittle)\n",
    "    ax.set_ylabel(ylabel)\n",
    "    plt.show()\n",
    "\n",
    "#Función implementada para visualiar la relación de los cuantiles\n",
    "def qq_plot(df, tittle):\n",
    "    fig = plt.figure()\n",
    "    ax = fig.add_subplot(111)\n",
    "    qqplot(df, line='s',ax =ax)\n",
    "    ax.set_title(tittle)\n",
    "    plt.show()"
   ]
  },
  {
   "cell_type": "markdown",
   "metadata": {},
   "source": [
    "## Carga y visualización de la base de datos"
   ]
  },
  {
   "cell_type": "code",
   "execution_count": 3,
   "metadata": {},
   "outputs": [
    {
     "data": {
      "text/html": [
       "<div>\n",
       "<style scoped>\n",
       "    .dataframe tbody tr th:only-of-type {\n",
       "        vertical-align: middle;\n",
       "    }\n",
       "\n",
       "    .dataframe tbody tr th {\n",
       "        vertical-align: top;\n",
       "    }\n",
       "\n",
       "    .dataframe thead th {\n",
       "        text-align: right;\n",
       "    }\n",
       "</style>\n",
       "<table border=\"1\" class=\"dataframe\">\n",
       "  <thead>\n",
       "    <tr style=\"text-align: right;\">\n",
       "      <th></th>\n",
       "      <th>id</th>\n",
       "      <th>listing_url</th>\n",
       "      <th>scrape_id</th>\n",
       "      <th>last_scraped</th>\n",
       "      <th>name</th>\n",
       "      <th>description</th>\n",
       "      <th>neighborhood_overview</th>\n",
       "      <th>picture_url</th>\n",
       "      <th>host_id</th>\n",
       "      <th>host_url</th>\n",
       "      <th>...</th>\n",
       "      <th>review_scores_communication</th>\n",
       "      <th>review_scores_location</th>\n",
       "      <th>review_scores_value</th>\n",
       "      <th>license</th>\n",
       "      <th>instant_bookable</th>\n",
       "      <th>calculated_host_listings_count</th>\n",
       "      <th>calculated_host_listings_count_entire_homes</th>\n",
       "      <th>calculated_host_listings_count_private_rooms</th>\n",
       "      <th>calculated_host_listings_count_shared_rooms</th>\n",
       "      <th>reviews_per_month</th>\n",
       "    </tr>\n",
       "  </thead>\n",
       "  <tbody>\n",
       "    <tr>\n",
       "      <th>0</th>\n",
       "      <td>11547</td>\n",
       "      <td>https://www.airbnb.com/rooms/11547</td>\n",
       "      <td>20200919153121</td>\n",
       "      <td>2020-09-21</td>\n",
       "      <td>My home at the beach</td>\n",
       "      <td>Sun, joy, relax, quality, beach &amp; peace.&lt;br /&gt;...</td>\n",
       "      <td>NaN</td>\n",
       "      <td>https://a0.muscache.com/pictures/494126/8c151b...</td>\n",
       "      <td>42942</td>\n",
       "      <td>https://www.airbnb.com/users/show/42942</td>\n",
       "      <td>...</td>\n",
       "      <td>10.0</td>\n",
       "      <td>10.0</td>\n",
       "      <td>10.0</td>\n",
       "      <td>NaN</td>\n",
       "      <td>f</td>\n",
       "      <td>1</td>\n",
       "      <td>1</td>\n",
       "      <td>0</td>\n",
       "      <td>0</td>\n",
       "      <td>0.93</td>\n",
       "    </tr>\n",
       "    <tr>\n",
       "      <th>1</th>\n",
       "      <td>100831</td>\n",
       "      <td>https://www.airbnb.com/rooms/100831</td>\n",
       "      <td>20200919153121</td>\n",
       "      <td>2020-09-21</td>\n",
       "      <td>HOUSE IN MALLORCA - WiFi(ET-3045)</td>\n",
       "      <td>&lt;b&gt;The space&lt;/b&gt;&lt;br /&gt;House situated in a quie...</td>\n",
       "      <td>NaN</td>\n",
       "      <td>https://a0.muscache.com/pictures/675527/72b329...</td>\n",
       "      <td>529151</td>\n",
       "      <td>https://www.airbnb.com/users/show/529151</td>\n",
       "      <td>...</td>\n",
       "      <td>10.0</td>\n",
       "      <td>10.0</td>\n",
       "      <td>10.0</td>\n",
       "      <td>ETV-3045</td>\n",
       "      <td>t</td>\n",
       "      <td>1</td>\n",
       "      <td>1</td>\n",
       "      <td>0</td>\n",
       "      <td>0</td>\n",
       "      <td>1.47</td>\n",
       "    </tr>\n",
       "    <tr>\n",
       "      <th>2</th>\n",
       "      <td>105891</td>\n",
       "      <td>https://www.airbnb.com/rooms/105891</td>\n",
       "      <td>20200919153121</td>\n",
       "      <td>2020-09-20</td>\n",
       "      <td>VILLAGE HOUSE WITH POOL: IDEAL FOR FAMILIES</td>\n",
       "      <td>The house is a street on the outskirts of the ...</td>\n",
       "      <td>The village's population does not reach two th...</td>\n",
       "      <td>https://a0.muscache.com/pictures/1036816/f36ce...</td>\n",
       "      <td>549192</td>\n",
       "      <td>https://www.airbnb.com/users/show/549192</td>\n",
       "      <td>...</td>\n",
       "      <td>10.0</td>\n",
       "      <td>9.0</td>\n",
       "      <td>10.0</td>\n",
       "      <td>ETV/6127</td>\n",
       "      <td>t</td>\n",
       "      <td>2</td>\n",
       "      <td>2</td>\n",
       "      <td>0</td>\n",
       "      <td>0</td>\n",
       "      <td>0.14</td>\n",
       "    </tr>\n",
       "    <tr>\n",
       "      <th>3</th>\n",
       "      <td>106833</td>\n",
       "      <td>https://www.airbnb.com/rooms/106833</td>\n",
       "      <td>20200919153121</td>\n",
       "      <td>2020-09-20</td>\n",
       "      <td>Villa with a big pool in Mallorca</td>\n",
       "      <td>&lt;b&gt;The space&lt;/b&gt;&lt;br /&gt;This is a restored old b...</td>\n",
       "      <td>NaN</td>\n",
       "      <td>https://a0.muscache.com/pictures/710218/98134c...</td>\n",
       "      <td>551974</td>\n",
       "      <td>https://www.airbnb.com/users/show/551974</td>\n",
       "      <td>...</td>\n",
       "      <td>10.0</td>\n",
       "      <td>9.0</td>\n",
       "      <td>9.0</td>\n",
       "      <td>ET/1961</td>\n",
       "      <td>f</td>\n",
       "      <td>1</td>\n",
       "      <td>1</td>\n",
       "      <td>0</td>\n",
       "      <td>0</td>\n",
       "      <td>0.09</td>\n",
       "    </tr>\n",
       "    <tr>\n",
       "      <th>4</th>\n",
       "      <td>130669</td>\n",
       "      <td>https://www.airbnb.com/rooms/130669</td>\n",
       "      <td>20200919153121</td>\n",
       "      <td>2020-09-20</td>\n",
       "      <td>Room great apartment</td>\n",
       "      <td>Located in a residential neighbourhood and 10m...</td>\n",
       "      <td>Located in the center of the city, within minu...</td>\n",
       "      <td>https://a0.muscache.com/pictures/866653/58dc48...</td>\n",
       "      <td>643065</td>\n",
       "      <td>https://www.airbnb.com/users/show/643065</td>\n",
       "      <td>...</td>\n",
       "      <td>NaN</td>\n",
       "      <td>NaN</td>\n",
       "      <td>NaN</td>\n",
       "      <td>NaN</td>\n",
       "      <td>t</td>\n",
       "      <td>2</td>\n",
       "      <td>0</td>\n",
       "      <td>2</td>\n",
       "      <td>0</td>\n",
       "      <td>NaN</td>\n",
       "    </tr>\n",
       "  </tbody>\n",
       "</table>\n",
       "<p>5 rows × 74 columns</p>\n",
       "</div>"
      ],
      "text/plain": [
       "       id                          listing_url       scrape_id last_scraped  \\\n",
       "0   11547   https://www.airbnb.com/rooms/11547  20200919153121   2020-09-21   \n",
       "1  100831  https://www.airbnb.com/rooms/100831  20200919153121   2020-09-21   \n",
       "2  105891  https://www.airbnb.com/rooms/105891  20200919153121   2020-09-20   \n",
       "3  106833  https://www.airbnb.com/rooms/106833  20200919153121   2020-09-20   \n",
       "4  130669  https://www.airbnb.com/rooms/130669  20200919153121   2020-09-20   \n",
       "\n",
       "                                          name  \\\n",
       "0                         My home at the beach   \n",
       "1            HOUSE IN MALLORCA - WiFi(ET-3045)   \n",
       "2  VILLAGE HOUSE WITH POOL: IDEAL FOR FAMILIES   \n",
       "3            Villa with a big pool in Mallorca   \n",
       "4                         Room great apartment   \n",
       "\n",
       "                                         description  \\\n",
       "0  Sun, joy, relax, quality, beach & peace.<br />...   \n",
       "1  <b>The space</b><br />House situated in a quie...   \n",
       "2  The house is a street on the outskirts of the ...   \n",
       "3  <b>The space</b><br />This is a restored old b...   \n",
       "4  Located in a residential neighbourhood and 10m...   \n",
       "\n",
       "                               neighborhood_overview  \\\n",
       "0                                                NaN   \n",
       "1                                                NaN   \n",
       "2  The village's population does not reach two th...   \n",
       "3                                                NaN   \n",
       "4  Located in the center of the city, within minu...   \n",
       "\n",
       "                                         picture_url  host_id  \\\n",
       "0  https://a0.muscache.com/pictures/494126/8c151b...    42942   \n",
       "1  https://a0.muscache.com/pictures/675527/72b329...   529151   \n",
       "2  https://a0.muscache.com/pictures/1036816/f36ce...   549192   \n",
       "3  https://a0.muscache.com/pictures/710218/98134c...   551974   \n",
       "4  https://a0.muscache.com/pictures/866653/58dc48...   643065   \n",
       "\n",
       "                                   host_url  ... review_scores_communication  \\\n",
       "0   https://www.airbnb.com/users/show/42942  ...                        10.0   \n",
       "1  https://www.airbnb.com/users/show/529151  ...                        10.0   \n",
       "2  https://www.airbnb.com/users/show/549192  ...                        10.0   \n",
       "3  https://www.airbnb.com/users/show/551974  ...                        10.0   \n",
       "4  https://www.airbnb.com/users/show/643065  ...                         NaN   \n",
       "\n",
       "  review_scores_location review_scores_value   license instant_bookable  \\\n",
       "0                   10.0                10.0       NaN                f   \n",
       "1                   10.0                10.0  ETV-3045                t   \n",
       "2                    9.0                10.0  ETV/6127                t   \n",
       "3                    9.0                 9.0   ET/1961                f   \n",
       "4                    NaN                 NaN       NaN                t   \n",
       "\n",
       "  calculated_host_listings_count calculated_host_listings_count_entire_homes  \\\n",
       "0                              1                                           1   \n",
       "1                              1                                           1   \n",
       "2                              2                                           2   \n",
       "3                              1                                           1   \n",
       "4                              2                                           0   \n",
       "\n",
       "  calculated_host_listings_count_private_rooms  \\\n",
       "0                                            0   \n",
       "1                                            0   \n",
       "2                                            0   \n",
       "3                                            0   \n",
       "4                                            2   \n",
       "\n",
       "  calculated_host_listings_count_shared_rooms reviews_per_month  \n",
       "0                                           0              0.93  \n",
       "1                                           0              1.47  \n",
       "2                                           0              0.14  \n",
       "3                                           0              0.09  \n",
       "4                                           0               NaN  \n",
       "\n",
       "[5 rows x 74 columns]"
      ]
     },
     "execution_count": 3,
     "metadata": {},
     "output_type": "execute_result"
    }
   ],
   "source": [
    "data_frame_airbnb=pd.read_csv('C:/Users/munta/OneDrive/Escritorio/Aprenentatge automatic/Practica Airbnb/airbnb.csv')\n",
    "data_frame_airbnb.head() "
   ]
  },
  {
   "cell_type": "markdown",
   "metadata": {},
   "source": [
    "Visualizamos los 5 primeros datos de nuestra  base de datos. Observamos que esta formada por 74 columnas, todas las columnas forman parte de aspectos a tener en cuenta para el estudio. Sin embargo, de dichas columnas habrá algunas que podamos eliminar (decidiendo que no tienen tanta importancia o peso).\n"
   ]
  },
  {
   "cell_type": "code",
   "execution_count": 4,
   "metadata": {},
   "outputs": [
    {
     "name": "stdout",
     "output_type": "stream",
     "text": [
      "Dimensión:  (17608, 74)\n",
      "<class 'pandas.core.frame.DataFrame'>\n",
      "RangeIndex: 17608 entries, 0 to 17607\n",
      "Data columns (total 74 columns):\n",
      " #   Column                                        Non-Null Count  Dtype  \n",
      "---  ------                                        --------------  -----  \n",
      " 0   id                                            17608 non-null  int64  \n",
      " 1   listing_url                                   17608 non-null  object \n",
      " 2   scrape_id                                     17608 non-null  int64  \n",
      " 3   last_scraped                                  17608 non-null  object \n",
      " 4   name                                          17607 non-null  object \n",
      " 5   description                                   17393 non-null  object \n",
      " 6   neighborhood_overview                         8213 non-null   object \n",
      " 7   picture_url                                   17608 non-null  object \n",
      " 8   host_id                                       17608 non-null  int64  \n",
      " 9   host_url                                      17608 non-null  object \n",
      " 10  host_name                                     17606 non-null  object \n",
      " 11  host_since                                    17606 non-null  object \n",
      " 12  host_location                                 17572 non-null  object \n",
      " 13  host_about                                    11696 non-null  object \n",
      " 14  host_response_time                            15862 non-null  object \n",
      " 15  host_response_rate                            15862 non-null  object \n",
      " 16  host_acceptance_rate                          16098 non-null  object \n",
      " 17  host_is_superhost                             17606 non-null  object \n",
      " 18  host_thumbnail_url                            17606 non-null  object \n",
      " 19  host_picture_url                              17606 non-null  object \n",
      " 20  host_neighbourhood                            364 non-null    object \n",
      " 21  host_listings_count                           17606 non-null  float64\n",
      " 22  host_total_listings_count                     17606 non-null  float64\n",
      " 23  host_verifications                            17608 non-null  object \n",
      " 24  host_has_profile_pic                          17606 non-null  object \n",
      " 25  host_identity_verified                        17606 non-null  object \n",
      " 26  neighbourhood                                 8213 non-null   object \n",
      " 27  neighbourhood_cleansed                        17608 non-null  object \n",
      " 28  neighbourhood_group_cleansed                  0 non-null      float64\n",
      " 29  latitude                                      17608 non-null  float64\n",
      " 30  longitude                                     17608 non-null  float64\n",
      " 31  property_type                                 17608 non-null  object \n",
      " 32  room_type                                     17608 non-null  object \n",
      " 33  accommodates                                  17608 non-null  int64  \n",
      " 34  bathrooms                                     0 non-null      float64\n",
      " 35  bathrooms_text                                17600 non-null  object \n",
      " 36  bedrooms                                      17333 non-null  float64\n",
      " 37  beds                                          17511 non-null  float64\n",
      " 38  amenities                                     17608 non-null  object \n",
      " 39  price                                         17608 non-null  object \n",
      " 40  minimum_nights                                17608 non-null  int64  \n",
      " 41  maximum_nights                                17608 non-null  int64  \n",
      " 42  minimum_minimum_nights                        17608 non-null  int64  \n",
      " 43  maximum_minimum_nights                        17608 non-null  int64  \n",
      " 44  minimum_maximum_nights                        17608 non-null  int64  \n",
      " 45  maximum_maximum_nights                        17608 non-null  int64  \n",
      " 46  minimum_nights_avg_ntm                        17608 non-null  float64\n",
      " 47  maximum_nights_avg_ntm                        17608 non-null  float64\n",
      " 48  calendar_updated                              0 non-null      float64\n",
      " 49  has_availability                              17608 non-null  object \n",
      " 50  availability_30                               17608 non-null  int64  \n",
      " 51  availability_60                               17608 non-null  int64  \n",
      " 52  availability_90                               17608 non-null  int64  \n",
      " 53  availability_365                              17608 non-null  int64  \n",
      " 54  calendar_last_scraped                         17608 non-null  object \n",
      " 55  number_of_reviews                             17608 non-null  int64  \n",
      " 56  number_of_reviews_ltm                         17608 non-null  int64  \n",
      " 57  number_of_reviews_l30d                        17608 non-null  int64  \n",
      " 58  first_review                                  11173 non-null  object \n",
      " 59  last_review                                   11173 non-null  object \n",
      " 60  review_scores_rating                          10957 non-null  float64\n",
      " 61  review_scores_accuracy                        10951 non-null  float64\n",
      " 62  review_scores_cleanliness                     10953 non-null  float64\n",
      " 63  review_scores_checkin                         10949 non-null  float64\n",
      " 64  review_scores_communication                   10951 non-null  float64\n",
      " 65  review_scores_location                        10950 non-null  float64\n",
      " 66  review_scores_value                           10949 non-null  float64\n",
      " 67  license                                       11431 non-null  object \n",
      " 68  instant_bookable                              17608 non-null  object \n",
      " 69  calculated_host_listings_count                17608 non-null  int64  \n",
      " 70  calculated_host_listings_count_entire_homes   17608 non-null  int64  \n",
      " 71  calculated_host_listings_count_private_rooms  17608 non-null  int64  \n",
      " 72  calculated_host_listings_count_shared_rooms   17608 non-null  int64  \n",
      " 73  reviews_per_month                             11173 non-null  float64\n",
      "dtypes: float64(19), int64(21), object(34)\n",
      "memory usage: 9.9+ MB\n"
     ]
    }
   ],
   "source": [
    "#Creamos una nueva base de datos para trabajar sobre ella y no modificar así la base de datos original\n",
    "df_airbnb =data_frame_airbnb.copy()\n",
    "\n",
    "print(\"Dimensión: \",df_airbnb.shape)\n",
    "df_airbnb.info()"
   ]
  },
  {
   "cell_type": "markdown",
   "metadata": {},
   "source": [
    "Con esta impresión observamos que la base de datos esta formado por 19 varaibles tipo float, 21 variables de tipo entero y 34 objetos. Además, podemos visualizar practicamente todas las columnas presentan algún valor nulo, y en especial en aquellas columnas que son de tipo float y tienes todos sus compenentes nulos, como por ejemplo la columna 'bathrooms'. De esta manera, ya podemos suponer que habrá que trabajar eliminar o transformar dichos valores nulos (NAN).\n"
   ]
  },
  {
   "cell_type": "markdown",
   "metadata": {},
   "source": [
    "## 1. Limpieza y preparación de la base de datos"
   ]
  },
  {
   "cell_type": "markdown",
   "metadata": {},
   "source": [
    "### 1.1 Columna 'price'"
   ]
  },
  {
   "cell_type": "markdown",
   "metadata": {},
   "source": [
    "Al hacer un modelo sobre la estimación de los precios de alojamiento es inevitable fijarse en la columna 'price'. Podemos observar que dicha columna es de tipo objeto. "
   ]
  },
  {
   "cell_type": "code",
   "execution_count": 5,
   "metadata": {},
   "outputs": [
    {
     "data": {
      "text/plain": [
       "0     $89.00\n",
       "1    $175.00\n",
       "2    $140.00\n",
       "3    $200.00\n",
       "4    $110.00\n",
       "Name: price, dtype: object"
      ]
     },
     "execution_count": 5,
     "metadata": {},
     "output_type": "execute_result"
    }
   ],
   "source": [
    "df_airbnb['price'].head(5)"
   ]
  },
  {
   "cell_type": "markdown",
   "metadata": {},
   "source": [
    "Esto se debe que esta columna es una cadena de valores, esta formada por el valor númerico del precio como tal y por el símbolo '$'. Esta configuración puede dar problemas al modelo a la hora de su aprendizaje, por ello,  vamos a transformar esta columna en tipo float para el estudio, eliminando el símbolo.\n"
   ]
  },
  {
   "cell_type": "code",
   "execution_count": 6,
   "metadata": {},
   "outputs": [
    {
     "data": {
      "text/plain": [
       "dtype('float64')"
      ]
     },
     "execution_count": 6,
     "metadata": {},
     "output_type": "execute_result"
    }
   ],
   "source": [
    "df_airbnb['price'] = df_airbnb['price'].str.replace(\"$\",\"\").str.replace(\",\",\"\").astype(float)\n",
    "df_airbnb['price'].dtype"
   ]
  },
  {
   "cell_type": "markdown",
   "metadata": {},
   "source": [
    "Realizamos una descripción de la columna 'price' para observar mejor su composición."
   ]
  },
  {
   "cell_type": "code",
   "execution_count": 7,
   "metadata": {},
   "outputs": [
    {
     "data": {
      "text/plain": [
       "count    17608.000000\n",
       "mean       244.383561\n",
       "std        409.958169\n",
       "min          0.000000\n",
       "25%        110.000000\n",
       "50%        179.000000\n",
       "75%        275.000000\n",
       "max      20736.000000\n",
       "Name: price, dtype: float64"
      ]
     },
     "execution_count": 7,
     "metadata": {},
     "output_type": "execute_result"
    }
   ],
   "source": [
    "df_airbnb.price.describe() "
   ]
  },
  {
   "cell_type": "markdown",
   "metadata": {},
   "source": [
    "Gracias a la función describe() podemos observar los percentiles de la variable 'price' y suponer que los valores se encuentran entre 100 y 300 dólares aproximadamente. Sin embargo, el valor máximo es de 20736 dólares. Podemos concluir que la variable 'price' presenta varios outliers. \n",
    "\n",
    "Para una mejor comprensión, decidimos plotear los datos de la columna 'price'.\n"
   ]
  },
  {
   "cell_type": "code",
   "execution_count": 8,
   "metadata": {},
   "outputs": [
    {
     "data": {
      "image/png": "[encoded data removed]",
      "text/plain": [
       "<Figure size 432x288 with 1 Axes>"
      ]
     },
     "metadata": {
      "needs_background": "light"
     },
     "output_type": "display_data"
    }
   ],
   "source": [
    "#Función para plotear\n",
    "plot_col(df_airbnb, 'Distribución de los precios de la base de datos sin modificar', df_airbnb.price, 'Precio') "
   ]
  },
  {
   "cell_type": "markdown",
   "metadata": {},
   "source": [
    "En la gráfica obtenida observamos como las suposiciones anteriores están muy alejadas, casi todos los datos se sitúan entorno a los 1000 dólares y por encima de los 3500 dólares aproximadamente encontramos varios outliers. Como se ha mencionado anteriormente, estos outliers pueden ser peligrosos para el aprendizaje del modelo, hay  que filtrarlos.\n"
   ]
  },
  {
   "cell_type": "markdown",
   "metadata": {},
   "source": [
    "#### Filtrado de precios"
   ]
  },
  {
   "cell_type": "markdown",
   "metadata": {},
   "source": [
    "Es momento de filtrar los precios del alojamiento con el objetivo de evitar que los outliers afecten al comportamiento del modelo. Para ello se decide tenner en cuenta los alojamientos con un precio menor de 2000 dólares. \n"
   ]
  },
  {
   "cell_type": "code",
   "execution_count": 9,
   "metadata": {},
   "outputs": [
    {
     "data": {
      "image/png": "[encoded data removed]",
      "text/plain": [
       "<Figure size 432x288 with 1 Axes>"
      ]
     },
     "metadata": {
      "needs_background": "light"
     },
     "output_type": "display_data"
    }
   ],
   "source": [
    "df_airbnb_fil = df_airbnb.loc[(df_airbnb.price <=2000) & (df_airbnb.price>0)]\n",
    "df_airbnb_fil.price.describe()\n",
    "plot_col(df_airbnb_fil, 'Distribución de los precios filtrados', df_airbnb_fil.price, 'Precio')"
   ]
  },
  {
   "cell_type": "markdown",
   "metadata": {},
   "source": [
    "Gracias al nuevo plot obtenido podemos observar que la mayoría de los datos se centran por debajo de los 1500 dólares. Sin embargo, se siguen visualizando varios outliers. Es necesario filtrar aún más lo precio. No obstante, se decide recurrir a la representación de la distribución de los cuantiles para decidir que límite de filtrado realizamos.\n"
   ]
  },
  {
   "cell_type": "code",
   "execution_count": 10,
   "metadata": {},
   "outputs": [
    {
     "data": {
      "image/png": "[encoded data removed]",
      "text/plain": [
       "<Figure size 432x288 with 1 Axes>"
      ]
     },
     "metadata": {
      "needs_background": "light"
     },
     "output_type": "display_data"
    }
   ],
   "source": [
    "# Función para la representación del Q-Q plot\n",
    "qq_plot(df_airbnb_fil.price, 'Representación QQ del precio filtrado')"
   ]
  },
  {
   "cell_type": "markdown",
   "metadata": {},
   "source": [
    "El qqplot nos sirve para visualizar la distribución de los precios en función de sus cuantiles, es decir, podemos observar que tan cerca están los precios respecto a sus cuantiles. Como podemos ver, sigue habiendo bastantes datos alejados. Es necesario filtrar aún más los datos de la variable 'price'. Se ha decidido limitar los datos hasta el quartil 3, es decir, al cuantil 0.875.\n"
   ]
  },
  {
   "cell_type": "code",
   "execution_count": 11,
   "metadata": {},
   "outputs": [
    {
     "name": "stdout",
     "output_type": "stream",
     "text": [
      "En cuantil 3 representado en la gráfica corresponde al valor del precio:  0.875    381.0\n",
      "Name: price, dtype: float64\n"
     ]
    }
   ],
   "source": [
    "q3 = df_airbnb_fil.price.quantile([0.875])\n",
    "print('En cuantil 3 representado en la gráfica corresponde al valor del precio: ', q3)"
   ]
  },
  {
   "cell_type": "code",
   "execution_count": 12,
   "metadata": {},
   "outputs": [
    {
     "data": {
      "image/png": "[encoded data removed]",
      "text/plain": [
       "<Figure size 432x288 with 1 Axes>"
      ]
     },
     "metadata": {
      "needs_background": "light"
     },
     "output_type": "display_data"
    }
   ],
   "source": [
    "df_airbnb_q = df_airbnb_fil.loc[(df_airbnb_fil.price <=381) & (df_airbnb_fil.price>0)]\n",
    "qq_plot(df_airbnb_q.price, 'Representación QQ del precio filtrado en el cuantil 0.875')"
   ]
  },
  {
   "cell_type": "markdown",
   "metadata": {},
   "source": [
    "Esta representación de la distribución de los datos es más aceptable. A partir de este momento, trabajaremos con esta cantidad de datos. "
   ]
  },
  {
   "cell_type": "markdown",
   "metadata": {},
   "source": [
    "### 1.2 Valores booleanos"
   ]
  },
  {
   "cell_type": "markdown",
   "metadata": {},
   "source": [
    "Visualizando los datos, observamos como hay varias columnas de la base de datos que presentan valores representados con 't' o f', estos valores representan variables booleanas. Por ende, es necesario modificar dichas variables para su futuro uso en el modelo.\n",
    "\n",
    "En primer lugar, crearemos una lista para almacenar todas las columnas que presentan dichas variables con el formato descrito. Posteriormente, recorremos dicha lista y reemplazamos los valores 'f' y 't' por 0 y 1 respectivamente. \n"
   ]
  },
  {
   "cell_type": "code",
   "execution_count": 13,
   "metadata": {},
   "outputs": [
    {
     "name": "stderr",
     "output_type": "stream",
     "text": [
      "C:\\Users\\munta\\anaconda3\\envs\\base1\\lib\\site-packages\\ipykernel_launcher.py:10: SettingWithCopyWarning: \n",
      "A value is trying to be set on a copy of a slice from a DataFrame.\n",
      "Try using .loc[row_indexer,col_indexer] = value instead\n",
      "\n",
      "See the caveats in the documentation: https://pandas.pydata.org/pandas-docs/stable/user_guide/indexing.html#returning-a-view-versus-a-copy\n",
      "  # Remove the CWD from sys.path while we load stuff.\n",
      "C:\\Users\\munta\\anaconda3\\envs\\base1\\lib\\site-packages\\ipykernel_launcher.py:11: SettingWithCopyWarning: \n",
      "A value is trying to be set on a copy of a slice from a DataFrame.\n",
      "Try using .loc[row_indexer,col_indexer] = value instead\n",
      "\n",
      "See the caveats in the documentation: https://pandas.pydata.org/pandas-docs/stable/user_guide/indexing.html#returning-a-view-versus-a-copy\n",
      "  # This is added back by InteractiveShellApp.init_path()\n"
     ]
    }
   ],
   "source": [
    "columnas_bool = [] #Realizamos una lista para todas las columnas con 'f' o 't'\n",
    "\n",
    "# Recorremos la base de datos de izquierda a derecha y vamos comprobando la primera posición de cada columna\n",
    "for n_col in df_airbnb_q.columns:\n",
    "    if ((df_airbnb_q.loc[0, n_col] == 't') | (df_airbnb_q.loc[0, n_col] == 'f')): \n",
    "        columnas_bool.append(n_col)\n",
    "\n",
    "#Recorremos la lista obtenido y reemplazamos los valores de 'f' y 't'\n",
    "for i in columnas_bool: \n",
    "    df_airbnb_q[i] = df_airbnb_q[i].replace('f',0)\n",
    "    df_airbnb_q[i] = df_airbnb_q[i].replace('t',1)\n",
    "   "
   ]
  },
  {
   "cell_type": "markdown",
   "metadata": {},
   "source": [
    "De esta manera, hemos obtenido una configuración binaria de las diferentes columnas que representaban booleanos.  "
   ]
  },
  {
   "cell_type": "markdown",
   "metadata": {},
   "source": [
    "### 1.3 Columna 'amenities'"
   ]
  },
  {
   "cell_type": "markdown",
   "metadata": {},
   "source": [
    "Cuando se decide estipular el precio de un alojamiento se tienen en cuenta muchos aspectos como las dimensiones del alojamiento, número de habitaciones y baños, su ubicación, electrodomésticos con los que cuenta, etc.  \n",
    "En este apartado nos centraremos en la columna 'amenities' que nos indica el equipamiento de cada alojamiento como electrodomésticos, si hay piscina, si cuenta con wifi, etc.\n"
   ]
  },
  {
   "cell_type": "code",
   "execution_count": 14,
   "metadata": {},
   "outputs": [
    {
     "data": {
      "text/plain": [
       "0    [\"Oven\", \"Wifi\", \"Coffee maker\", \"Dishes and s...\n",
       "1    [\"First aid kit\", \"Hair dryer\", \"Iron\", \"Washe...\n",
       "2    [\"Smoke alarm\", \"Oven\", \"Wifi\", \"Garden or bac...\n",
       "3    [\"Pool\", \"Free parking on premises\", \"Air cond...\n",
       "4    [\"Pool\", \"Washer\", \"Air conditioning\", \"Kitche...\n",
       "Name: amenities, dtype: object"
      ]
     },
     "execution_count": 14,
     "metadata": {},
     "output_type": "execute_result"
    }
   ],
   "source": [
    "df_airbnb_q.amenities.head()"
   ]
  },
  {
   "cell_type": "markdown",
   "metadata": {},
   "source": [
    "La columna 'amenities' al estar formada por objetos, se decide vectorizar los valores para poder tratar con ellos y limpiarlos, es decir, se van a contemplar estos objetos como columnas nuevas y cada una de ellas se rellenará con un '1' o '0' simulando si el alojamineto tiene o no dicho equipamiento."
   ]
  },
  {
   "cell_type": "code",
   "execution_count": 15,
   "metadata": {},
   "outputs": [],
   "source": [
    "count = CountVectorizer(tokenizer=lambda x: x.split(','))\n",
    "amenities = count.fit_transform(df_airbnb_q.amenities)"
   ]
  },
  {
   "cell_type": "markdown",
   "metadata": {},
   "source": [
    "Un vez vectorizados los valores de la columna 'amenities', es momento de agregarle nombre a estas nuevas columnas."
   ]
  },
  {
   "cell_type": "code",
   "execution_count": 16,
   "metadata": {},
   "outputs": [
    {
     "data": {
      "text/html": [
       "<div>\n",
       "<style scoped>\n",
       "    .dataframe tbody tr th:only-of-type {\n",
       "        vertical-align: middle;\n",
       "    }\n",
       "\n",
       "    .dataframe tbody tr th {\n",
       "        vertical-align: top;\n",
       "    }\n",
       "\n",
       "    .dataframe thead th {\n",
       "        text-align: right;\n",
       "    }\n",
       "</style>\n",
       "<table border=\"1\" class=\"dataframe\">\n",
       "  <thead>\n",
       "    <tr style=\"text-align: right;\">\n",
       "      <th></th>\n",
       "      <th>air conditioning</th>\n",
       "      <th>air conditioning</th>\n",
       "      <th>baby bath</th>\n",
       "      <th>baby bath</th>\n",
       "      <th>baby monitor</th>\n",
       "      <th>babysitter recommendations</th>\n",
       "      <th>babysitter recommendations</th>\n",
       "      <th>baking sheet</th>\n",
       "      <th>barbecue utensils</th>\n",
       "      <th>bathtub</th>\n",
       "      <th>...</th>\n",
       "      <th>private living room</th>\n",
       "      <th>record player</th>\n",
       "      <th>room-darkening shades</th>\n",
       "      <th>shampoo</th>\n",
       "      <th>smoke alarm</th>\n",
       "      <th>table corner guards</th>\n",
       "      <th>tv</th>\n",
       "      <th>tv</th>\n",
       "      <th>washer</th>\n",
       "      <th>wifi</th>\n",
       "    </tr>\n",
       "  </thead>\n",
       "  <tbody>\n",
       "    <tr>\n",
       "      <th>0</th>\n",
       "      <td>1</td>\n",
       "      <td>0</td>\n",
       "      <td>0</td>\n",
       "      <td>0</td>\n",
       "      <td>0</td>\n",
       "      <td>0</td>\n",
       "      <td>0</td>\n",
       "      <td>0</td>\n",
       "      <td>0</td>\n",
       "      <td>0</td>\n",
       "      <td>...</td>\n",
       "      <td>0</td>\n",
       "      <td>0</td>\n",
       "      <td>0</td>\n",
       "      <td>0</td>\n",
       "      <td>0</td>\n",
       "      <td>0</td>\n",
       "      <td>0</td>\n",
       "      <td>0</td>\n",
       "      <td>0</td>\n",
       "      <td>0</td>\n",
       "    </tr>\n",
       "    <tr>\n",
       "      <th>1</th>\n",
       "      <td>1</td>\n",
       "      <td>0</td>\n",
       "      <td>0</td>\n",
       "      <td>0</td>\n",
       "      <td>0</td>\n",
       "      <td>0</td>\n",
       "      <td>0</td>\n",
       "      <td>0</td>\n",
       "      <td>0</td>\n",
       "      <td>0</td>\n",
       "      <td>...</td>\n",
       "      <td>0</td>\n",
       "      <td>0</td>\n",
       "      <td>0</td>\n",
       "      <td>0</td>\n",
       "      <td>0</td>\n",
       "      <td>0</td>\n",
       "      <td>0</td>\n",
       "      <td>0</td>\n",
       "      <td>0</td>\n",
       "      <td>0</td>\n",
       "    </tr>\n",
       "    <tr>\n",
       "      <th>2</th>\n",
       "      <td>1</td>\n",
       "      <td>0</td>\n",
       "      <td>0</td>\n",
       "      <td>0</td>\n",
       "      <td>0</td>\n",
       "      <td>0</td>\n",
       "      <td>0</td>\n",
       "      <td>0</td>\n",
       "      <td>0</td>\n",
       "      <td>0</td>\n",
       "      <td>...</td>\n",
       "      <td>0</td>\n",
       "      <td>0</td>\n",
       "      <td>0</td>\n",
       "      <td>0</td>\n",
       "      <td>1</td>\n",
       "      <td>0</td>\n",
       "      <td>0</td>\n",
       "      <td>0</td>\n",
       "      <td>0</td>\n",
       "      <td>0</td>\n",
       "    </tr>\n",
       "    <tr>\n",
       "      <th>3</th>\n",
       "      <td>1</td>\n",
       "      <td>0</td>\n",
       "      <td>0</td>\n",
       "      <td>0</td>\n",
       "      <td>0</td>\n",
       "      <td>0</td>\n",
       "      <td>0</td>\n",
       "      <td>0</td>\n",
       "      <td>0</td>\n",
       "      <td>0</td>\n",
       "      <td>...</td>\n",
       "      <td>0</td>\n",
       "      <td>0</td>\n",
       "      <td>0</td>\n",
       "      <td>0</td>\n",
       "      <td>0</td>\n",
       "      <td>0</td>\n",
       "      <td>0</td>\n",
       "      <td>0</td>\n",
       "      <td>0</td>\n",
       "      <td>0</td>\n",
       "    </tr>\n",
       "    <tr>\n",
       "      <th>4</th>\n",
       "      <td>1</td>\n",
       "      <td>0</td>\n",
       "      <td>0</td>\n",
       "      <td>0</td>\n",
       "      <td>0</td>\n",
       "      <td>0</td>\n",
       "      <td>0</td>\n",
       "      <td>0</td>\n",
       "      <td>0</td>\n",
       "      <td>0</td>\n",
       "      <td>...</td>\n",
       "      <td>0</td>\n",
       "      <td>0</td>\n",
       "      <td>0</td>\n",
       "      <td>0</td>\n",
       "      <td>0</td>\n",
       "      <td>0</td>\n",
       "      <td>0</td>\n",
       "      <td>0</td>\n",
       "      <td>0</td>\n",
       "      <td>0</td>\n",
       "    </tr>\n",
       "  </tbody>\n",
       "</table>\n",
       "<p>5 rows × 195 columns</p>\n",
       "</div>"
      ],
      "text/plain": [
       "   air conditioning  air conditioning  baby bath  baby bath  baby monitor  \\\n",
       "0                 1                 0          0          0             0   \n",
       "1                 1                 0          0          0             0   \n",
       "2                 1                 0          0          0             0   \n",
       "3                 1                 0          0          0             0   \n",
       "4                 1                 0          0          0             0   \n",
       "\n",
       "   babysitter recommendations  babysitter recommendations  baking sheet  \\\n",
       "0                           0                           0             0   \n",
       "1                           0                           0             0   \n",
       "2                           0                           0             0   \n",
       "3                           0                           0             0   \n",
       "4                           0                           0             0   \n",
       "\n",
       "   barbecue utensils  bathtub  ...  private living room  record player  \\\n",
       "0                  0        0  ...                    0              0   \n",
       "1                  0        0  ...                    0              0   \n",
       "2                  0        0  ...                    0              0   \n",
       "3                  0        0  ...                    0              0   \n",
       "4                  0        0  ...                    0              0   \n",
       "\n",
       "   room-darkening shades  shampoo  smoke alarm  table corner guards  tv  tv  \\\n",
       "0                      0        0            0                    0   0   0   \n",
       "1                      0        0            0                    0   0   0   \n",
       "2                      0        0            1                    0   0   0   \n",
       "3                      0        0            0                    0   0   0   \n",
       "4                      0        0            0                    0   0   0   \n",
       "\n",
       "   washer  wifi  \n",
       "0       0     0  \n",
       "1       0     0  \n",
       "2       0     0  \n",
       "3       0     0  \n",
       "4       0     0  \n",
       "\n",
       "[5 rows x 195 columns]"
      ]
     },
     "execution_count": 16,
     "metadata": {},
     "output_type": "execute_result"
    }
   ],
   "source": [
    "columns = count.get_feature_names()\n",
    "for i, item in enumerate(columns):\n",
    "    forma = item.replace('\"','').replace('[','').replace(']','').strip()\n",
    "    columns[i] = forma\n",
    "    \n",
    "#Creamos una nueva base de datos con sólo los objetovs de la columna 'amenities' de la base de datos con la que trabajamos.\n",
    "df_amenities = pd.DataFrame(amenities.toarray(),columns=columns) \n",
    "df_amenities.drop('',axis=1,inplace = True)\n",
    "#Eliminamos la columna 'amenities'\n",
    "df_airbnb_q = df_airbnb_q.drop(['amenities'], axis = 1)\n",
    "\n",
    "df_amenities.head()"
   ]
  },
  {
   "cell_type": "markdown",
   "metadata": {},
   "source": [
    "Una vez creada esta nueva base de datos, podemos observar que hay columnas que se han repetido rellenandose con ceros. Las columnas no se han repetido sólo una vez, en algunos casos han sido más. Por este motivo, se crea una base de datos nueva donde se irá introduciendo cada columna repetida mientras se elimina de la base de datos 'df_amenities' con el fin de tratar tambíen esas columnas repetidas más de una vez. "
   ]
  },
  {
   "cell_type": "code",
   "execution_count": 17,
   "metadata": {},
   "outputs": [
    {
     "data": {
      "text/html": [
       "<div>\n",
       "<style scoped>\n",
       "    .dataframe tbody tr th:only-of-type {\n",
       "        vertical-align: middle;\n",
       "    }\n",
       "\n",
       "    .dataframe tbody tr th {\n",
       "        vertical-align: top;\n",
       "    }\n",
       "\n",
       "    .dataframe thead th {\n",
       "        text-align: right;\n",
       "    }\n",
       "</style>\n",
       "<table border=\"1\" class=\"dataframe\">\n",
       "  <thead>\n",
       "    <tr style=\"text-align: right;\">\n",
       "      <th></th>\n",
       "      <th>baking_sheet</th>\n",
       "      <th>barbecue_utensils</th>\n",
       "      <th>bed_linens</th>\n",
       "      <th>ceiling_fan</th>\n",
       "      <th>cleaning_before_checkout</th>\n",
       "      <th>conditioner</th>\n",
       "      <th>dishwasher</th>\n",
       "      <th>freezer</th>\n",
       "      <th>high_chair</th>\n",
       "      <th>indoor_fireplace</th>\n",
       "      <th>...</th>\n",
       "      <th>ski-in/ski-out</th>\n",
       "      <th>smart_lock</th>\n",
       "      <th>smoke_alarm</th>\n",
       "      <th>stove</th>\n",
       "      <th>table_corner_guards</th>\n",
       "      <th>tv</th>\n",
       "      <th>washer</th>\n",
       "      <th>waterfront</th>\n",
       "      <th>wifi</th>\n",
       "      <th>window_guards</th>\n",
       "    </tr>\n",
       "  </thead>\n",
       "  <tbody>\n",
       "    <tr>\n",
       "      <th>0</th>\n",
       "      <td>0</td>\n",
       "      <td>0</td>\n",
       "      <td>0</td>\n",
       "      <td>0</td>\n",
       "      <td>0</td>\n",
       "      <td>0</td>\n",
       "      <td>0</td>\n",
       "      <td>0</td>\n",
       "      <td>0</td>\n",
       "      <td>0</td>\n",
       "      <td>...</td>\n",
       "      <td>0</td>\n",
       "      <td>0</td>\n",
       "      <td>0</td>\n",
       "      <td>1</td>\n",
       "      <td>0</td>\n",
       "      <td>1</td>\n",
       "      <td>1</td>\n",
       "      <td>0</td>\n",
       "      <td>1</td>\n",
       "      <td>0</td>\n",
       "    </tr>\n",
       "    <tr>\n",
       "      <th>1</th>\n",
       "      <td>0</td>\n",
       "      <td>0</td>\n",
       "      <td>0</td>\n",
       "      <td>0</td>\n",
       "      <td>0</td>\n",
       "      <td>0</td>\n",
       "      <td>0</td>\n",
       "      <td>0</td>\n",
       "      <td>0</td>\n",
       "      <td>1</td>\n",
       "      <td>...</td>\n",
       "      <td>0</td>\n",
       "      <td>0</td>\n",
       "      <td>1</td>\n",
       "      <td>0</td>\n",
       "      <td>0</td>\n",
       "      <td>1</td>\n",
       "      <td>1</td>\n",
       "      <td>0</td>\n",
       "      <td>1</td>\n",
       "      <td>0</td>\n",
       "    </tr>\n",
       "    <tr>\n",
       "      <th>2</th>\n",
       "      <td>0</td>\n",
       "      <td>0</td>\n",
       "      <td>0</td>\n",
       "      <td>0</td>\n",
       "      <td>0</td>\n",
       "      <td>0</td>\n",
       "      <td>1</td>\n",
       "      <td>0</td>\n",
       "      <td>1</td>\n",
       "      <td>0</td>\n",
       "      <td>...</td>\n",
       "      <td>0</td>\n",
       "      <td>0</td>\n",
       "      <td>1</td>\n",
       "      <td>1</td>\n",
       "      <td>0</td>\n",
       "      <td>1</td>\n",
       "      <td>1</td>\n",
       "      <td>0</td>\n",
       "      <td>1</td>\n",
       "      <td>0</td>\n",
       "    </tr>\n",
       "    <tr>\n",
       "      <th>3</th>\n",
       "      <td>0</td>\n",
       "      <td>0</td>\n",
       "      <td>0</td>\n",
       "      <td>0</td>\n",
       "      <td>0</td>\n",
       "      <td>0</td>\n",
       "      <td>0</td>\n",
       "      <td>0</td>\n",
       "      <td>0</td>\n",
       "      <td>1</td>\n",
       "      <td>...</td>\n",
       "      <td>0</td>\n",
       "      <td>0</td>\n",
       "      <td>0</td>\n",
       "      <td>0</td>\n",
       "      <td>0</td>\n",
       "      <td>1</td>\n",
       "      <td>0</td>\n",
       "      <td>0</td>\n",
       "      <td>1</td>\n",
       "      <td>0</td>\n",
       "    </tr>\n",
       "    <tr>\n",
       "      <th>4</th>\n",
       "      <td>0</td>\n",
       "      <td>0</td>\n",
       "      <td>0</td>\n",
       "      <td>0</td>\n",
       "      <td>0</td>\n",
       "      <td>0</td>\n",
       "      <td>0</td>\n",
       "      <td>0</td>\n",
       "      <td>0</td>\n",
       "      <td>0</td>\n",
       "      <td>...</td>\n",
       "      <td>0</td>\n",
       "      <td>0</td>\n",
       "      <td>0</td>\n",
       "      <td>0</td>\n",
       "      <td>0</td>\n",
       "      <td>1</td>\n",
       "      <td>1</td>\n",
       "      <td>0</td>\n",
       "      <td>1</td>\n",
       "      <td>0</td>\n",
       "    </tr>\n",
       "  </tbody>\n",
       "</table>\n",
       "<p>5 rows × 97 columns</p>\n",
       "</div>"
      ],
      "text/plain": [
       "   baking_sheet  barbecue_utensils  bed_linens  ceiling_fan  \\\n",
       "0             0                  0           0            0   \n",
       "1             0                  0           0            0   \n",
       "2             0                  0           0            0   \n",
       "3             0                  0           0            0   \n",
       "4             0                  0           0            0   \n",
       "\n",
       "   cleaning_before_checkout  conditioner  dishwasher  freezer  high_chair  \\\n",
       "0                         0            0           0        0           0   \n",
       "1                         0            0           0        0           0   \n",
       "2                         0            0           1        0           1   \n",
       "3                         0            0           0        0           0   \n",
       "4                         0            0           0        0           0   \n",
       "\n",
       "   indoor_fireplace  ...  ski-in/ski-out  smart_lock  smoke_alarm  stove  \\\n",
       "0                 0  ...               0           0            0      1   \n",
       "1                 1  ...               0           0            1      0   \n",
       "2                 0  ...               0           0            1      1   \n",
       "3                 1  ...               0           0            0      0   \n",
       "4                 0  ...               0           0            0      0   \n",
       "\n",
       "   table_corner_guards  tv  washer  waterfront  wifi  window_guards  \n",
       "0                    0   1       1           0     1              0  \n",
       "1                    0   1       1           0     1              0  \n",
       "2                    0   1       1           0     1              0  \n",
       "3                    0   1       0           0     1              0  \n",
       "4                    0   1       1           0     1              0  \n",
       "\n",
       "[5 rows x 97 columns]"
      ]
     },
     "execution_count": 17,
     "metadata": {},
     "output_type": "execute_result"
    }
   ],
   "source": [
    "df_dupli = pd.DataFrame()\n",
    "\n",
    "for col in df_amenities.columns:\n",
    "    if col not in df_dupli.columns:\n",
    "         if len(df_amenities.filter(like=col).columns) > 1: #Se filtran aquellas columnas con más de 1 aparición\n",
    "            df_dupli[col] = df_amenities[col].any(1)\n",
    "            df_dupli = df_dupli.applymap(lambda x: 1 if x else 0)        \n",
    "            df_amenities.drop(col,axis=1,inplace=True)\n",
    "            \n",
    "df_amenities = pd.concat([df_amenities,df_dupli],axis=1,join='inner')\n",
    "df_amenities.columns = df_amenities.columns.str.replace(' ', '_')\n",
    "df_amenities.head()"
   ]
  },
  {
   "cell_type": "markdown",
   "metadata": {},
   "source": [
    "Cuando se haya terminado la limpieza de la base datos, la base de datos df_amenities será añadida a la base de datos preparada para el entrenamiento del modelo."
   ]
  },
  {
   "cell_type": "markdown",
   "metadata": {},
   "source": [
    "### 1.4 Media de las valoraciones"
   ]
  },
  {
   "cell_type": "markdown",
   "metadata": {},
   "source": [
    "En la base de datos aparecen seis columnas representando puntuaciones sobre varios aspectos sobre la casa. Esta puntuación se ha llevado a cabo a través de diferentes revisiones sobre el alojamiento. Por este motivo se decide realizar una media con todas las puntuaciones de las revisiones y eliminarlas. Así reducimos la base de datos y facilitamos el trabajo de aprendizaje del modelo.\n"
   ]
  },
  {
   "cell_type": "code",
   "execution_count": 18,
   "metadata": {},
   "outputs": [
    {
     "data": {
      "text/plain": [
       "0     9.8\n",
       "1    10.0\n",
       "2     9.8\n",
       "3     9.6\n",
       "4     NaN\n",
       "Name: review_mean, dtype: float64"
      ]
     },
     "execution_count": 18,
     "metadata": {},
     "output_type": "execute_result"
    }
   ],
   "source": [
    "df_airbnb_q['review_mean'] = df_airbnb_q[['review_scores_accuracy',\n",
    "                                         'review_scores_cleanliness',\n",
    "                                         'review_scores_communication',\n",
    "                                         'review_scores_location',\n",
    "                                         'review_scores_value']].mean(axis=1)\n",
    "\n",
    "#Eliminamos las columnas usadas\n",
    "df_airbnb_q = df_airbnb_q.drop(['review_scores_accuracy',\n",
    "                                'review_scores_cleanliness',\n",
    "                                'review_scores_communication',\n",
    "                                'review_scores_location',\n",
    "                                'review_scores_value'], axis=1)   \n",
    "\n",
    "df_airbnb_q.review_mean.head()"
   ]
  },
  {
   "cell_type": "markdown",
   "metadata": {},
   "source": [
    "### 1.5 Columnas tipo objeto"
   ]
  },
  {
   "cell_type": "markdown",
   "metadata": {},
   "source": [
    "La base de datos esta formado por un gran número de columnas de tipo objeto que contienen imágenes, descripción del alojamiento, información a cerca del propietario de del alojamiento e incluso información sobre los húespedes del alojamiento. Esta información es irrelevante para el modelo que pretendemos implementar. Por este motivo se decide eliminar dichas columnas para obtener una base de datos más limpia.\n",
    "Los motivos para eliminar dichas columnas son los siguientes:\n",
    "\n",
    "* Todas las direcciones URL no se pueden usar para el aprendizaje del modelo.\n",
    "* Las imágenes proporcionadas por la plataforma no se tendrán en cuenta.\n",
    "* Diversa información personal sobre el propietario.\n",
    "* Información a cera del vecindario, es redundante tiniendo en cuenta que se cuenta con la localización del alojamiento.\n",
    "* Fechas relacionadas con revisiones.\n",
    "* Tipo de licencia\n",
    "* Columnas con información repetida, como el número mínimo o máximo de noches.\n",
    "* Columnas con todos sus datos iguales o muy parecidos\n",
    "\n",
    "Siguiendo estos motivos, se leva a cabo la eliminación de 39 columnas."
   ]
  },
  {
   "cell_type": "code",
   "execution_count": 19,
   "metadata": {},
   "outputs": [],
   "source": [
    "df_airbnb_q = df_airbnb_q.drop(['listing_url', 'name', 'scrape_id', 'last_scraped',\n",
    "                                'description', 'neighborhood_overview','picture_url', 'host_location',\n",
    "                                'host_url', 'host_name', 'host_response_rate', 'host_since', 'host_about',\n",
    "                                'host_response_time', 'host_acceptance_rate', 'host_thumbnail_url',\n",
    "                                'host_picture_url', 'host_neighbourhood', 'host_listings_count', 'host_verifications',\n",
    "                                'property_type', 'calendar_last_scraped','neighbourhood', 'neighbourhood_cleansed',\n",
    "                                'minimum_minimum_nights', 'maximum_minimum_nights','minimum_maximum_nights',\n",
    "                                'maximum_maximum_nights', 'minimum_nights_avg_ntm', 'maximum_nights_avg_ntm',\n",
    "                                'number_of_reviews', 'number_of_reviews_ltm', 'number_of_reviews_l30d',\n",
    "                                'first_review', 'last_review', 'license', 'calculated_host_listings_count',\n",
    "                                'calculated_host_listings_count_entire_homes', \n",
    "                                'calculated_host_listings_count_shared_rooms', 'calculated_host_listings_count_private_rooms'], \n",
    "                                axis = 1)\n"
   ]
  },
  {
   "cell_type": "markdown",
   "metadata": {},
   "source": [
    "### 1.6 Columna Bathrooms_text"
   ]
  },
  {
   "cell_type": "markdown",
   "metadata": {},
   "source": [
    "En la base de datos hay dos columnas orientadas a los lavabos del alojamiento.Estas columnas son 'bathrooms', formada por valores NAN, y 'bathrooms_text', formada por un valor númerico y un string. La primera de éstas se ha tratado en el apartado 1.4 Valores NAN, por ende, nos centraremmos ahora con la columna 'bathrooms_text'.\n",
    "\n",
    "Esta columna es de tipo objeto y el motivo de su tratamineto es simular a lo realizado a en la columna 'price'. Sin embargo, la columna 'bathrooms_text' no presenta un símbolo o string igual en todos sus datos, sinó que presenta varios strings diferentes. A nosotros tan sólo nos importa el valor númerico de estos datos para el entrenamiento del modelo. Por este motivo se filtrará el valor númerico a través de la función 'extract()' y se agregará a una columna nueva llamada 'num_bathrooms'y se transformará la columna a typo float. Se eliminará la columna 'bathrooms_text'.\n"
   ]
  },
  {
   "cell_type": "code",
   "execution_count": 20,
   "metadata": {},
   "outputs": [],
   "source": [
    "df_airbnb_q['num_bathrooms'] = df_airbnb_q['bathrooms_text'].str.extract('(\\d+)').astype(float)\n",
    "df_airbnb_q= df_airbnb_q.drop(labels='bathrooms_text', axis=1)\n"
   ]
  },
  {
   "cell_type": "markdown",
   "metadata": {},
   "source": [
    "### 1.7 Columna room_type"
   ]
  },
  {
   "cell_type": "markdown",
   "metadata": {},
   "source": [
    "La columna 'room_type' es de tipo objeto y esta formada por strings que describen el tipo de habitación. Que la habitación sea de un tipo u otro es un facotr a tener en cuenta para predecir el precio del alojamiento. Por este motivo, transformaremos dicha columna en una de tipo numérico con el fin de poder trabajar con ella en el entrenamiento del modelo. Primeramente visualizaremos los tipos de habitación presentes, y posteriormente cada tipo de habitación la representaremos con columnas binarias (0 si no es ese tipo y 1 si lo es).\n"
   ]
  },
  {
   "cell_type": "code",
   "execution_count": 21,
   "metadata": {},
   "outputs": [
    {
     "data": {
      "text/plain": [
       "Entire home/apt    13591\n",
       "Private room        1542\n",
       "Hotel room           198\n",
       "Shared room           19\n",
       "Name: room_type, dtype: int64"
      ]
     },
     "execution_count": 21,
     "metadata": {},
     "output_type": "execute_result"
    }
   ],
   "source": [
    "df_airbnb_q.room_type.value_counts()"
   ]
  },
  {
   "cell_type": "markdown",
   "metadata": {},
   "source": [
    "Como se puede observar, hay 4 tipos de habitaciones. Por ende, obtendremos 4 columnas nuevas y eliminaremos la columna 'room_type'.\n"
   ]
  },
  {
   "cell_type": "code",
   "execution_count": 22,
   "metadata": {},
   "outputs": [
    {
     "data": {
      "text/html": [
       "<div>\n",
       "<style scoped>\n",
       "    .dataframe tbody tr th:only-of-type {\n",
       "        vertical-align: middle;\n",
       "    }\n",
       "\n",
       "    .dataframe tbody tr th {\n",
       "        vertical-align: top;\n",
       "    }\n",
       "\n",
       "    .dataframe thead th {\n",
       "        text-align: right;\n",
       "    }\n",
       "</style>\n",
       "<table border=\"1\" class=\"dataframe\">\n",
       "  <thead>\n",
       "    <tr style=\"text-align: right;\">\n",
       "      <th></th>\n",
       "      <th>entire home/apt</th>\n",
       "      <th>hotel room</th>\n",
       "      <th>private room</th>\n",
       "      <th>shared room</th>\n",
       "    </tr>\n",
       "  </thead>\n",
       "  <tbody>\n",
       "    <tr>\n",
       "      <th>0</th>\n",
       "      <td>1</td>\n",
       "      <td>0</td>\n",
       "      <td>0</td>\n",
       "      <td>0</td>\n",
       "    </tr>\n",
       "    <tr>\n",
       "      <th>1</th>\n",
       "      <td>1</td>\n",
       "      <td>0</td>\n",
       "      <td>0</td>\n",
       "      <td>0</td>\n",
       "    </tr>\n",
       "    <tr>\n",
       "      <th>2</th>\n",
       "      <td>1</td>\n",
       "      <td>0</td>\n",
       "      <td>0</td>\n",
       "      <td>0</td>\n",
       "    </tr>\n",
       "    <tr>\n",
       "      <th>3</th>\n",
       "      <td>1</td>\n",
       "      <td>0</td>\n",
       "      <td>0</td>\n",
       "      <td>0</td>\n",
       "    </tr>\n",
       "    <tr>\n",
       "      <th>4</th>\n",
       "      <td>0</td>\n",
       "      <td>0</td>\n",
       "      <td>1</td>\n",
       "      <td>0</td>\n",
       "    </tr>\n",
       "  </tbody>\n",
       "</table>\n",
       "</div>"
      ],
      "text/plain": [
       "   entire home/apt  hotel room  private room  shared room\n",
       "0                1           0             0            0\n",
       "1                1           0             0            0\n",
       "2                1           0             0            0\n",
       "3                1           0             0            0\n",
       "4                0           0             1            0"
      ]
     },
     "execution_count": 22,
     "metadata": {},
     "output_type": "execute_result"
    }
   ],
   "source": [
    "count1 = CountVectorizer(tokenizer=lambda x: x.split(','))\n",
    "rooms_type = count1.fit_transform(df_airbnb_q.room_type)\n",
    "\n",
    "#Un vez vectorizados los valores de la columna 'room_type', es momento de agregarle nombre a los nuevas columnas.\n",
    "columns1 = count1.get_feature_names()\n",
    "\n",
    "#Creamos una nueva base de datos con sólo los objetos de la columna 'room_type' de la base de datos con la que trabajamos.\n",
    "df_room_type = pd.DataFrame(rooms_type.toarray(),columns=columns1) \n",
    "\n",
    "#Eliminamos la columna 'room_type'\n",
    "df_airbnb_q = df_airbnb_q.drop(['room_type'], axis = 1)\n",
    "\n",
    "df_room_type.head()"
   ]
  },
  {
   "cell_type": "markdown",
   "metadata": {},
   "source": [
    "Así pues, al igual que la bae de datos obtenida de la columna 'amenities', se añadrirá esta nueva base de datos (df_room_type) a la base de datos final con la que entrenaremos el modelo."
   ]
  },
  {
   "cell_type": "markdown",
   "metadata": {},
   "source": [
    "### 1.8 Valores NAN"
   ]
  },
  {
   "cell_type": "markdown",
   "metadata": {},
   "source": [
    "En la base de datos hay varias variables de valor NAN presentes. Estas variables si son de tipo objeto no hay de que preocuparse. Sin embargo, gracias a la información vista al inicio de  este documento, observamos que hay columnas con valores NAN que no son de tipo objeto, son de tipo float e int. Además, hay columnas que su continido completo son valores NAN. Por tanto, es necesario modificar el contenido de estas columnas por un valor númerico con que el que podamos trabajar. "
   ]
  },
  {
   "cell_type": "code",
   "execution_count": 23,
   "metadata": {},
   "outputs": [],
   "source": [
    "#Substituímos los valores nulos por la media los valores de la columna\n",
    "                                                                                      \n",
    "for n_col in df_airbnb_q:\n",
    "    if ((df_airbnb_q[n_col].dtype=='float64') | (df_airbnb_q[n_col].dtype=='int64')):\n",
    "        if df_airbnb_q[n_col].isnull().any(): #Comprobamos si hay valores nulos\n",
    "            df_airbnb_q[n_col] = df_airbnb_q[n_col].fillna(df_airbnb_q[n_col].mean()) \n",
    "            \n",
    "#Eliminamos todas esas columnas completas de valores NAN\n",
    "for i in df_airbnb_q:\n",
    "    if df_airbnb_q[i].size == df_airbnb_q[i].isnull().sum(): \n",
    "        df_airbnb_q.drop(i,axis=1,inplace=True)                "
   ]
  },
  {
   "cell_type": "markdown",
   "metadata": {},
   "source": [
    "Se realiza el tratado de los valores nulos al final de la limpieza e la base de datos, ya que en algunos de los procesos realizados habran surgido valores nulos que anteriormente no estaban. De esta forma, nos aseguramenos tratar con todos ellos, los inicialmente presentes y los nuevos. "
   ]
  },
  {
   "cell_type": "markdown",
   "metadata": {},
   "source": [
    "### 1.9 Base de datos final  "
   ]
  },
  {
   "cell_type": "markdown",
   "metadata": {},
   "source": [
    "La base de datos inicial con la que se ha iniciado este cuaderno estaba formada por varias columnas que podrían provocar problemas de aprendizaje  al modelo que implementaremos más adelante. Por este motivo se ha decidido limpiar y modificar dicha base de datos. Los cambios realizados han sido:\n",
    "\n",
    "* Se ha modificado el formato de presentación del precio, ahora se representa de forma númerica. Anteriormente estaba presentado como una cadena de valores numeros con el string '$'. \n",
    "* Se ha realizado un filtrado de los datos a partir del precio, es decir, se han eliminado outliers. Se trabajará el modelo con los datos del cuantil 87.5%.\n",
    "* Se ha creado una base de datos sobre la columna 'amenities' (equipamiento) formada por diferetentes strings. Cada string aparente de dicha columna contribuye una nueva columna rellenada por valores binarios (1, 0) indicando si el alojamiento presenta o no el equipamiento en cuestión.\n",
    "* Los valores aparentemente booleamos, representados con 'f' o 't', se han modificado por valores númericos (0, 1).\n",
    "\n",
    "* Se han modificado los valores NAN por la media de los valores de la columna en cuestión(de tipo númerica) y se han elimiando todas esas columnas formadas únicamente por valores NAN.\n",
    "\n",
    "* Se ha realizado la media de las valoraciones.\n",
    "* Se han eliminado todas esas columnas de tipo objeto no útiles para el entrenamiento del modelo\n",
    "* Se ha creado una columna nueva con los datos de la columna 'bathrooms_text' debido a que esta última era de tipo objeto y estaba formada por valores númericos y strings.\n",
    "* Se ha creado una base de datos sobre la columna 'room_type'. Una base de datos formada por 4 columnas, 1 por tipo de habitación, rellenadas por valores binarios (0 si no es de ese tipo y 1 en caso contrario).\n",
    "\n",
    "Para finalizar, es momento de formar una base de datos nueva con las bases de datos 'df_aminities', 'df_room_type'  y la base de datos que se ha filtrado/modificado ('df_airbnb_q'). "
   ]
  },
  {
   "cell_type": "code",
   "execution_count": 24,
   "metadata": {},
   "outputs": [
    {
     "data": {
      "text/html": [
       "<div>\n",
       "<style scoped>\n",
       "    .dataframe tbody tr th:only-of-type {\n",
       "        vertical-align: middle;\n",
       "    }\n",
       "\n",
       "    .dataframe tbody tr th {\n",
       "        vertical-align: top;\n",
       "    }\n",
       "\n",
       "    .dataframe thead th {\n",
       "        text-align: right;\n",
       "    }\n",
       "</style>\n",
       "<table border=\"1\" class=\"dataframe\">\n",
       "  <thead>\n",
       "    <tr style=\"text-align: right;\">\n",
       "      <th></th>\n",
       "      <th>id</th>\n",
       "      <th>host_id</th>\n",
       "      <th>host_is_superhost</th>\n",
       "      <th>host_total_listings_count</th>\n",
       "      <th>host_has_profile_pic</th>\n",
       "      <th>host_identity_verified</th>\n",
       "      <th>latitude</th>\n",
       "      <th>longitude</th>\n",
       "      <th>accommodates</th>\n",
       "      <th>bedrooms</th>\n",
       "      <th>...</th>\n",
       "      <th>table_corner_guards</th>\n",
       "      <th>tv</th>\n",
       "      <th>washer</th>\n",
       "      <th>waterfront</th>\n",
       "      <th>wifi</th>\n",
       "      <th>window_guards</th>\n",
       "      <th>entire home/apt</th>\n",
       "      <th>hotel room</th>\n",
       "      <th>private room</th>\n",
       "      <th>shared room</th>\n",
       "    </tr>\n",
       "  </thead>\n",
       "  <tbody>\n",
       "    <tr>\n",
       "      <th>0</th>\n",
       "      <td>11547</td>\n",
       "      <td>42942</td>\n",
       "      <td>0.0</td>\n",
       "      <td>0.0</td>\n",
       "      <td>1.0</td>\n",
       "      <td>1.0</td>\n",
       "      <td>39.51888</td>\n",
       "      <td>2.48182</td>\n",
       "      <td>2</td>\n",
       "      <td>1.0</td>\n",
       "      <td>...</td>\n",
       "      <td>0</td>\n",
       "      <td>1</td>\n",
       "      <td>1</td>\n",
       "      <td>0</td>\n",
       "      <td>1</td>\n",
       "      <td>0</td>\n",
       "      <td>1</td>\n",
       "      <td>0</td>\n",
       "      <td>0</td>\n",
       "      <td>0</td>\n",
       "    </tr>\n",
       "    <tr>\n",
       "      <th>1</th>\n",
       "      <td>100831</td>\n",
       "      <td>529151</td>\n",
       "      <td>0.0</td>\n",
       "      <td>1.0</td>\n",
       "      <td>1.0</td>\n",
       "      <td>1.0</td>\n",
       "      <td>39.76347</td>\n",
       "      <td>3.16255</td>\n",
       "      <td>8</td>\n",
       "      <td>4.0</td>\n",
       "      <td>...</td>\n",
       "      <td>0</td>\n",
       "      <td>1</td>\n",
       "      <td>1</td>\n",
       "      <td>0</td>\n",
       "      <td>1</td>\n",
       "      <td>0</td>\n",
       "      <td>1</td>\n",
       "      <td>0</td>\n",
       "      <td>0</td>\n",
       "      <td>0</td>\n",
       "    </tr>\n",
       "    <tr>\n",
       "      <th>2</th>\n",
       "      <td>105891</td>\n",
       "      <td>549192</td>\n",
       "      <td>1.0</td>\n",
       "      <td>2.0</td>\n",
       "      <td>1.0</td>\n",
       "      <td>1.0</td>\n",
       "      <td>39.66044</td>\n",
       "      <td>3.07165</td>\n",
       "      <td>6</td>\n",
       "      <td>3.0</td>\n",
       "      <td>...</td>\n",
       "      <td>0</td>\n",
       "      <td>1</td>\n",
       "      <td>1</td>\n",
       "      <td>0</td>\n",
       "      <td>1</td>\n",
       "      <td>0</td>\n",
       "      <td>1</td>\n",
       "      <td>0</td>\n",
       "      <td>0</td>\n",
       "      <td>0</td>\n",
       "    </tr>\n",
       "    <tr>\n",
       "      <th>3</th>\n",
       "      <td>106833</td>\n",
       "      <td>551974</td>\n",
       "      <td>0.0</td>\n",
       "      <td>1.0</td>\n",
       "      <td>1.0</td>\n",
       "      <td>1.0</td>\n",
       "      <td>39.61600</td>\n",
       "      <td>3.30121</td>\n",
       "      <td>4</td>\n",
       "      <td>2.0</td>\n",
       "      <td>...</td>\n",
       "      <td>0</td>\n",
       "      <td>1</td>\n",
       "      <td>0</td>\n",
       "      <td>0</td>\n",
       "      <td>1</td>\n",
       "      <td>0</td>\n",
       "      <td>1</td>\n",
       "      <td>0</td>\n",
       "      <td>0</td>\n",
       "      <td>0</td>\n",
       "    </tr>\n",
       "    <tr>\n",
       "      <th>4</th>\n",
       "      <td>130669</td>\n",
       "      <td>643065</td>\n",
       "      <td>0.0</td>\n",
       "      <td>3.0</td>\n",
       "      <td>1.0</td>\n",
       "      <td>0.0</td>\n",
       "      <td>39.56478</td>\n",
       "      <td>2.60333</td>\n",
       "      <td>2</td>\n",
       "      <td>1.0</td>\n",
       "      <td>...</td>\n",
       "      <td>0</td>\n",
       "      <td>1</td>\n",
       "      <td>1</td>\n",
       "      <td>0</td>\n",
       "      <td>1</td>\n",
       "      <td>0</td>\n",
       "      <td>0</td>\n",
       "      <td>0</td>\n",
       "      <td>1</td>\n",
       "      <td>0</td>\n",
       "    </tr>\n",
       "  </tbody>\n",
       "</table>\n",
       "<p>5 rows × 126 columns</p>\n",
       "</div>"
      ],
      "text/plain": [
       "       id  host_id  host_is_superhost  host_total_listings_count  \\\n",
       "0   11547    42942                0.0                        0.0   \n",
       "1  100831   529151                0.0                        1.0   \n",
       "2  105891   549192                1.0                        2.0   \n",
       "3  106833   551974                0.0                        1.0   \n",
       "4  130669   643065                0.0                        3.0   \n",
       "\n",
       "   host_has_profile_pic  host_identity_verified  latitude  longitude  \\\n",
       "0                   1.0                     1.0  39.51888    2.48182   \n",
       "1                   1.0                     1.0  39.76347    3.16255   \n",
       "2                   1.0                     1.0  39.66044    3.07165   \n",
       "3                   1.0                     1.0  39.61600    3.30121   \n",
       "4                   1.0                     0.0  39.56478    2.60333   \n",
       "\n",
       "   accommodates  bedrooms  ...  table_corner_guards  tv  washer  waterfront  \\\n",
       "0             2       1.0  ...                    0   1       1           0   \n",
       "1             8       4.0  ...                    0   1       1           0   \n",
       "2             6       3.0  ...                    0   1       1           0   \n",
       "3             4       2.0  ...                    0   1       0           0   \n",
       "4             2       1.0  ...                    0   1       1           0   \n",
       "\n",
       "   wifi  window_guards  entire home/apt  hotel room  private room  shared room  \n",
       "0     1              0                1           0             0            0  \n",
       "1     1              0                1           0             0            0  \n",
       "2     1              0                1           0             0            0  \n",
       "3     1              0                1           0             0            0  \n",
       "4     1              0                0           0             1            0  \n",
       "\n",
       "[5 rows x 126 columns]"
      ]
     },
     "execution_count": 24,
     "metadata": {},
     "output_type": "execute_result"
    }
   ],
   "source": [
    "airbnb_df = pd.concat([df_airbnb_q,df_amenities, df_room_type],axis=1,join='inner')\n",
    "airbnb_df.head()"
   ]
  },
  {
   "cell_type": "markdown",
   "metadata": {},
   "source": [
    "Como se puede observar, se ha reducido el número de datos y variables respecto al inicial y se han añadido más columnas referentes a la vectorización de la columnna 'amenities'."
   ]
  },
  {
   "cell_type": "markdown",
   "metadata": {},
   "source": [
    "### 1.10 Visualización de los datos"
   ]
  },
  {
   "cell_type": "markdown",
   "metadata": {},
   "source": [
    "Para la implementación del modelo es necesario visualizar previamente los datos y observar cómo están distribuidos y correlacionados. Para poder hacerlo se usaría la función 'pairplot' de la librería Seaborn, como también un mapa de calor para observar la correlación entre los datos. Sin embargo, por la gran cantidad de datos con la que está formada la base de datos es tan sólo es posible visualizar algunos datos ya que el tiempo de computación es demasiado grande si se usa toda la base de datos. "
   ]
  },
  {
   "cell_type": "code",
   "execution_count": 25,
   "metadata": {},
   "outputs": [
    {
     "data": {
      "text/plain": [
       "<AxesSubplot:>"
      ]
     },
     "execution_count": 25,
     "metadata": {},
     "output_type": "execute_result"
    },
    {
     "data": {
      "image/png": "[encoded data removed]",
      "text/plain": [
       "<Figure size 432x288 with 2 Axes>"
      ]
     },
     "metadata": {
      "needs_background": "light"
     },
     "output_type": "display_data"
    }
   ],
   "source": [
    "#sns.pairplot(airbnb_df, hue = 'price') #tiempo de computación demasiado largo\n",
    "\n",
    "#Visualizamos los datos para ver su correlación \n",
    "diagonal_corr = airbnb_df.corr()\n",
    "sns.heatmap(diagonal_corr) \n"
   ]
  },
  {
   "cell_type": "markdown",
   "metadata": {},
   "source": [
    "El mapa de correlación ploteado nos da la oportunidad de visualizar la correlación entre todas las variables de nuestra base de datos. No obstante, como se ha mencionado anteriormente y como podemos observar en la gráfica obtenida, dicha visualización no es interpretable teniendo en cuenta todas las variables de la base de datos. Por este motivo, se visualizarán las variables que, bajo propio criterio, interpretamos que deben tener más paso para el entrenamiento del modelo. Estas varaibles son:\n",
    "\n",
    "* Precio, salida de nuestro modelo\n",
    "* Tipo de alojamiento\n",
    "* Número de habitaciones\n",
    "* Número de camas\n",
    "* Número de baños\n",
    "* Las variables de latitud y longitud para la ubicación del alojamiento\n",
    "\n",
    "Para ello se implementará una base de datos nueva para su visualización randozimada con un total de 200 muestras."
   ]
  },
  {
   "cell_type": "code",
   "execution_count": 26,
   "metadata": {},
   "outputs": [],
   "source": [
    "visualizacion_datos = airbnb_df.sample(frac=1, random_state=42)\n",
    "visualizacion_datos = airbnb_df.loc[0:200,['entire home/apt', 'hotel room', 'private room', 'shared room',\n",
    "                                'bedrooms', 'beds', 'num_bathrooms', 'latitude', 'longitude', 'price']]\n",
    "\n",
    "#sns.pairplot(visualizacion_datos, hue='price') Tiempo de computación muy alto"
   ]
  },
  {
   "cell_type": "code",
   "execution_count": 27,
   "metadata": {},
   "outputs": [
    {
     "data": {
      "text/plain": [
       "<AxesSubplot:>"
      ]
     },
     "execution_count": 27,
     "metadata": {},
     "output_type": "execute_result"
    },
    {
     "data": {
      "image/png": "[encoded data removed]",
      "text/plain": [
       "<Figure size 432x288 with 2 Axes>"
      ]
     },
     "metadata": {
      "needs_background": "light"
     },
     "output_type": "display_data"
    }
   ],
   "source": [
    "diagonal_corr_reducido = visualizacion_datos.corr()\n",
    "sns.heatmap(diagonal_corr_reducido, annot = True)"
   ]
  },
  {
   "cell_type": "markdown",
   "metadata": {},
   "source": [
    "Gracias al mapa de calor podemos visualizar la correlación entre las variables. Centrándose en la vairable de salida del modelo, 'price', observamos que la correlación entre las demás variables no es muy alta. Destaca por encima del resto el número de habitaciones, camas y baños. A simple vista, parece lo lógico. Sin embargo, algo a destacar es el tipo de habitación, en un inicia se esperaba que hubiese una mayor correlación. "
   ]
  },
  {
   "cell_type": "markdown",
   "metadata": {},
   "source": [
    "Para una mayor comprensión de los datos se decide visualizar las variables de mayor correlación."
   ]
  },
  {
   "cell_type": "code",
   "execution_count": 28,
   "metadata": {},
   "outputs": [
    {
     "data": {
      "image/png": "[encoded data removed]",
      "text/plain": [
       "<Figure size 432x288 with 1 Axes>"
      ]
     },
     "metadata": {
      "needs_background": "light"
     },
     "output_type": "display_data"
    },
    {
     "data": {
      "image/png": "[encoded data removed]",
      "text/plain": [
       "<Figure size 432x288 with 1 Axes>"
      ]
     },
     "metadata": {
      "needs_background": "light"
     },
     "output_type": "display_data"
    },
    {
     "data": {
      "image/png": "[encoded data removed]",
      "text/plain": [
       "<Figure size 432x288 with 1 Axes>"
      ]
     },
     "metadata": {
      "needs_background": "light"
     },
     "output_type": "display_data"
    }
   ],
   "source": [
    "plot_col(airbnb_df, 'Distribución del número de habitaciones', airbnb_df['bedrooms'], 'Habitaciones')\n",
    "plot_col(airbnb_df, 'Distribución del número de camas', airbnb_df['beds'], 'Camas')\n",
    "plot_col(airbnb_df, 'Distribución del número de baños', airbnb_df['num_bathrooms'], 'Baños')"
   ]
  },
  {
   "cell_type": "markdown",
   "metadata": {},
   "source": [
    "Con los plots de las variables más correlacionadas con el precio, podemos observar como sus muestras todas se hallan en valores parecidos a excipción de algunos outlieres. Teniendo en cuenta el filtrado realizado en la limpieza de la base de datos, no tendrían que ocasionarnos problemas a la hora de entrenar el modelo."
   ]
  },
  {
   "cell_type": "markdown",
   "metadata": {},
   "source": [
    "## 2. Implementación del modelo"
   ]
  },
  {
   "cell_type": "markdown",
   "metadata": {},
   "source": [
    "### 2.1 Datos de entrenamiento y datos de testeo"
   ]
  },
  {
   "cell_type": "markdown",
   "metadata": {},
   "source": [
    "Para la implementación del modelo es necesario dividir la base de datos en dos grupos. Una parte de la base de datos para realizar el entrenamineto del modelo y otra parte para el testeo del modelo. En otras palabras, usaremos el 80% de los datos para el entrenamiento del modelo y el 20% para testear como el modelo se comporta y predice correctamente. \n"
   ]
  },
  {
   "cell_type": "code",
   "execution_count": 29,
   "metadata": {},
   "outputs": [],
   "source": [
    "# Mezclamos el dataframe de forma aleatoria\n",
    "airbnb_df = airbnb_df.sample(frac=1, random_state=42)\n",
    "\n",
    "train_size = int(0.8*airbnb_df.shape[0])\n",
    "\n",
    "df_train = airbnb_df.loc[:train_size]\n",
    "df_test = airbnb_df.loc[train_size:]\n",
    "\n",
    "#Separación entre las variables de entrada y la variable de salida (precio)\n",
    "#Datos para el entrenamiento\n",
    "x_train = df_train.drop('price', axis=1)\n",
    "y_train = df_train['price']\n",
    "\n",
    "#Datos para el testeo\n",
    "x_test = df_train.drop('price', axis=1)\n",
    "y_test = df_train['price']"
   ]
  },
  {
   "cell_type": "markdown",
   "metadata": {},
   "source": [
    "### 2.2 Normalización de los datos"
   ]
  },
  {
   "cell_type": "markdown",
   "metadata": {},
   "source": [
    "La base de datos está formada por variables con destintas medidas, por este motivo se decide estanderizar/normalizar los datos. Para ello se ha implementado una función para normalizar los datos, en dicha función se usa la función 'StandScaler' de Scikitlern.\n"
   ]
  },
  {
   "cell_type": "markdown",
   "metadata": {},
   "source": [
    "#### Función para normalizar datos "
   ]
  },
  {
   "cell_type": "code",
   "execution_count": 30,
   "metadata": {},
   "outputs": [],
   "source": [
    "def normalize_function(X):\n",
    "    scaler= StandardScaler().fit(X) #Escalamos los datos \n",
    "    X_n = scaler.transform(X)\n",
    "    return X_n"
   ]
  },
  {
   "cell_type": "markdown",
   "metadata": {},
   "source": [
    "#### Normalización de los datos"
   ]
  },
  {
   "cell_type": "code",
   "execution_count": 31,
   "metadata": {},
   "outputs": [],
   "source": [
    "x_train_n = normalize_function(x_train) \n",
    "x_test_n = normalize_function(x_test) "
   ]
  },
  {
   "cell_type": "markdown",
   "metadata": {},
   "source": [
    "Una vez separados los datos en datos de entrenamiento y datos de testeo y su respectiva estanderización, ya tenemos listos los datos para la implementación del modelo."
   ]
  },
  {
   "cell_type": "markdown",
   "metadata": {},
   "source": [
    "### 2.4 Método de regresión"
   ]
  },
  {
   "cell_type": "markdown",
   "metadata": {},
   "source": [
    "### k-Nearest Neighboor"
   ]
  },
  {
   "cell_type": "markdown",
   "metadata": {},
   "source": [
    "Se ha decidido implementar un modelo que sea capaz de clasificar los precios de los alojamientos. Para el entrenamiento del modelo se aplicarán algoritmos de regresión. Se decide en un primer momento seguir el método k-Nearest Neighbor. Es un algoritmo basado en instancia de tipo supervisado de Machine Learning. Así pues, es un método que simplemente busca en las observaciones más cercanas a la que se está tratando de predecir y clasifica el punto de interés basado en la mayoría de datos que le rodean. \n",
    "\n",
    "El mayor problema para de usar este método es obtener el número óptimo de vecinos. Para ello se usará el método de evaluación cruzada que trabaja con las particiones distintas de la base de datos para estimar la precisión del modelo. Vamos a calcular una estimación del R2 usando varios rangos (0-25, 25-50, 50-80). \n",
    "\n"
   ]
  },
  {
   "cell_type": "markdown",
   "metadata": {},
   "source": [
    "#### Funciones para el número óptimo de vecinos"
   ]
  },
  {
   "cell_type": "markdown",
   "metadata": {},
   "source": [
    "Al usar 3 rangos se decide implementar una funcion para obtener el valor de R2 para cada posible número de vecinos  y se implementa un función que devuelva el valor máximo de R2 en cada rango y, por ende, poder obtener el número óptimo de vecinos para el modelo."
   ]
  },
  {
   "cell_type": "code",
   "execution_count": 32,
   "metadata": {},
   "outputs": [],
   "source": [
    "def n_neighbors(rango):\n",
    "    \n",
    "    k_range =rango\n",
    "    k_result = []\n",
    "    \n",
    "    for k in k_range:\n",
    "        knn = KNeighborsRegressor(n_neighbors = k, algorithm = 'auto')\n",
    "        result = cross_val_score(knn, x_train_n, y_train, cv = 10, scoring = 'r2')\n",
    "        k_result.append(result.mean())\n",
    "            \n",
    "    return k_result  \n",
    "\n",
    "def max_neighbors(k_result):\n",
    "    max_value = None\n",
    "    max_idx = None\n",
    "\n",
    "    for idx, num in enumerate(k_result):\n",
    "        if (max_value is None or num > max_value):\n",
    "            max_value = num\n",
    "            max_idx = idx\n",
    "\n",
    "    print('Valor máximo de R2:', max_value, \"Numero de vecinos: \", max_idx)"
   ]
  },
  {
   "cell_type": "code",
   "execution_count": 33,
   "metadata": {},
   "outputs": [],
   "source": [
    "#Calculamos R2 para cada número de vecinos\n",
    "#Rango 0-25\n",
    "n_neighbors_0_25 = n_neighbors(range(1,25))\n",
    "#Rango 25-50\n",
    "n_neighbors_25_50 = n_neighbors(range(25,50))\n",
    "#Rango 50-80\n",
    "n_neighbors_50_80 = n_neighbors(range(50,80))"
   ]
  },
  {
   "cell_type": "code",
   "execution_count": 34,
   "metadata": {},
   "outputs": [
    {
     "name": "stdout",
     "output_type": "stream",
     "text": [
      "Valor máximo de R2: 0.2639820539057788 Numero de vecinos:  23\n",
      "Valor máximo de R2: 0.27449198890881354 Numero de vecinos:  15\n",
      "Valor máximo de R2: 0.2738801802304907 Numero de vecinos:  0\n"
     ]
    }
   ],
   "source": [
    "#Obtenemos el número óptimo\n",
    "max_neighbors(n_neighbors_0_25)\n",
    "max_neighbors(n_neighbors_25_50)\n",
    "max_neighbors(n_neighbors_50_80)"
   ]
  },
  {
   "cell_type": "markdown",
   "metadata": {},
   "source": [
    "Una vez realizada esta simulación, observamos como el número óptimo se encuentra en el rango 25-50 y corresponde a la iteración 15, es decir, el número óptimo de vecinos es 40 (25+15). Así pues, ya podemos realizar el entrenaiento del modelo."
   ]
  },
  {
   "cell_type": "markdown",
   "metadata": {},
   "source": [
    "#### Entrenamineto del modelo"
   ]
  },
  {
   "cell_type": "code",
   "execution_count": 35,
   "metadata": {},
   "outputs": [
    {
     "data": {
      "text/plain": [
       "'kd_tree'"
      ]
     },
     "execution_count": 35,
     "metadata": {},
     "output_type": "execute_result"
    }
   ],
   "source": [
    "knn = KNeighborsRegressor(n_neighbors = 40, algorithm = 'auto')\n",
    "knn.fit(x_train_n, y_train)\n",
    "knn._fit_method"
   ]
  },
  {
   "cell_type": "markdown",
   "metadata": {},
   "source": [
    "El parámetro 'algorithm' se le atribuye el valor 'auto' ya que con dicho valor el modelo elige el algoritmo que mejor se ajuste a los datos. El mejor algoritmo a aplicar para nuestra base de datos es el 'kd_tree'.             "
   ]
  },
  {
   "cell_type": "markdown",
   "metadata": {},
   "source": [
    "Es momento de predecir los valores de los precios y comprobar así si el modelo trabaja correctamente."
   ]
  },
  {
   "cell_type": "code",
   "execution_count": 36,
   "metadata": {},
   "outputs": [
    {
     "data": {
      "text/plain": [
       "array([158.9  , 169.2  , 169.758, ..., 120.15 , 182.725, 194.625])"
      ]
     },
     "execution_count": 36,
     "metadata": {},
     "output_type": "execute_result"
    }
   ],
   "source": [
    "y_predict = knn.predict(x_test_n)\n",
    "y_predict"
   ]
  },
  {
   "cell_type": "markdown",
   "metadata": {},
   "source": [
    "Una vez predecido los valores de salida, es momento de comprobar si el modelo trabaja correctamente o no. Para ello se hace uso de las métricas. En este caso, se opta por usar el RMSE y R2.\n"
   ]
  },
  {
   "cell_type": "code",
   "execution_count": 37,
   "metadata": {},
   "outputs": [
    {
     "name": "stdout",
     "output_type": "stream",
     "text": [
      "RMSE:  70.55349687263796  R2:  0.3137473416675257\n"
     ]
    }
   ],
   "source": [
    "rmse = (mean_squared_error(y_test, y_predict))**(1/2) #RSME\n",
    "r2 = r2_score(y_test, y_predict)\n",
    "print('RMSE: ', rmse, ' R2: ', r2)"
   ]
  },
  {
   "cell_type": "markdown",
   "metadata": {},
   "source": [
    "Se ha obtenido un RMSE de 70.55 y un R2 de 0.31. Así pues, a través de estas métricas podemos concretar que el modelo predice los precios de los alojamientos con un error medio de 70 dólares, este error quizás podría ser aceptable para alojamientos con un precio superior a los 400 dólares. Sin embargo, con el valor de R2 observamos que el modelo se ajusta a los datos un 31.37%, presenta underfitting. \n",
    "\n",
    "Visto los resultados de las métricas obtenidos, vamos a implementar un modelo de regresión lineal a ver si obtenemos unas mejores métricas y, por ende, un mejor modelo."
   ]
  },
  {
   "cell_type": "markdown",
   "metadata": {},
   "source": [
    "### Regresión lineal"
   ]
  },
  {
   "cell_type": "markdown",
   "metadata": {},
   "source": [
    "La regresión lineal es un método estadístico que trata de modelar la relación entre una variable continua y una o más variables independientes mediante el ajuste de una ecuación lineal. En nuestro caso, tan solo contamos con una variable independiente (de salida), el precio del alojamiento, y, por ende, se trata de regresión lineal simple. Si nuestra base de datos tuviera más variables independientes se trataría de un regresión lineal múltiple.\n",
    "\n",
    "Teniendo en cuenta que las bases del modelo se han implementado al inicio del entrenamiento, seprarando los datos de entrenamiento y testeo, y su posterior normalización. Para el modelo de regresión lineal tan sólo es necesario entrenar el modelo con dicho método."
   ]
  },
  {
   "cell_type": "markdown",
   "metadata": {},
   "source": [
    "#### Entrenamiento del modelo"
   ]
  },
  {
   "cell_type": "code",
   "execution_count": 38,
   "metadata": {},
   "outputs": [
    {
     "data": {
      "text/plain": [
       "LinearRegression()"
      ]
     },
     "execution_count": 38,
     "metadata": {},
     "output_type": "execute_result"
    }
   ],
   "source": [
    "reg_lr = LinearRegression()\n",
    "reg_lr.fit(x_train_n, y_train)"
   ]
  },
  {
   "cell_type": "markdown",
   "metadata": {},
   "source": [
    "Predecimos los valores de salida del modelo, es decir, los precios de los alojamientos de los datos de testeo."
   ]
  },
  {
   "cell_type": "code",
   "execution_count": 39,
   "metadata": {},
   "outputs": [
    {
     "data": {
      "text/plain": [
       "array([ 91.79234521, 147.87828271, 132.26500146, ...,  92.81187646,\n",
       "       234.78062646, 186.02672021])"
      ]
     },
     "execution_count": 39,
     "metadata": {},
     "output_type": "execute_result"
    }
   ],
   "source": [
    "y_predict_reg_lr = reg_lr.predict(x_test_n)\n",
    "y_predict_reg_lr"
   ]
  },
  {
   "cell_type": "markdown",
   "metadata": {},
   "source": [
    "Como ha ocurrido con el modelo de k-Nearest Neighboor, es momento de hacer uso de las métricas para comprobar el comportamiento del modelo."
   ]
  },
  {
   "cell_type": "code",
   "execution_count": 40,
   "metadata": {},
   "outputs": [
    {
     "name": "stdout",
     "output_type": "stream",
     "text": [
      "RMSE:  62.443217415223145  R2:  0.4624516951297243\n"
     ]
    }
   ],
   "source": [
    "rmse_reg_lr = (mean_squared_error(y_test, y_predict_reg_lr))**(1/2) #RSME\n",
    "r2_reg_lr = r2_score(y_test, y_predict_reg_lr)\n",
    "print('RMSE: ', rmse_reg_lr, ' R2: ', r2_reg_lr)"
   ]
  },
  {
   "cell_type": "markdown",
   "metadata": {},
   "source": [
    "A través de la regresión lineal se han obtenido resultados mejores. El modelo presenta un error medio de 62.44 dólares a la hora de predecir el precio del alojamiento y se ajusta un 46.24% a los datos. En otras palabras, el modelo entrenado con una regresión lineal predice los precios de los alojamientos con un menor error que con un modelo entrenado con el método de       k-Nearest Neighboor y se ajusta más a los datos. "
   ]
  }
 ],
 "metadata": {
  "kernelspec": {
   "display_name": "Python 3",
   "language": "python",
   "name": "python3"
  },
  "language_info": {
   "codemirror_mode": {
    "name": "ipython",
    "version": 3
   },
   "file_extension": ".py",
   "mimetype": "text/x-python",
   "name": "python",
   "nbconvert_exporter": "python",
   "pygments_lexer": "ipython3",
   "version": "3.7.7"
  }
 },
 "nbformat": 4,
 "nbformat_minor": 4
}
